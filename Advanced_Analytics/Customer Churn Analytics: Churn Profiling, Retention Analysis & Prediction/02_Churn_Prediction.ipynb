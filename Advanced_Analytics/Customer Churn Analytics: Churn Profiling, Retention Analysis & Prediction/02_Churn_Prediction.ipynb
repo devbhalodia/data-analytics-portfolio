{
  "nbformat": 4,
  "nbformat_minor": 0,
  "metadata": {
    "colab": {
      "provenance": []
    },
    "kernelspec": {
      "name": "python3",
      "display_name": "Python 3"
    },
    "language_info": {
      "name": "python"
    }
  },
  "cells": [
    {
      "cell_type": "code",
      "execution_count": 1,
      "metadata": {
        "id": "fHJ886gs_3eP"
      },
      "outputs": [],
      "source": [
        "import numpy as np\n",
        "import pandas as pd\n",
        "import matplotlib.pyplot as plt\n",
        "import seaborn as sns"
      ]
    },
    {
      "cell_type": "code",
      "source": [
        "df = pd.read_csv('BankChurners.csv')"
      ],
      "metadata": {
        "id": "x4o2aUqtALyc"
      },
      "execution_count": 2,
      "outputs": []
    },
    {
      "cell_type": "code",
      "source": [
        "df.columns = df.columns.str.lower()\n",
        "df.columns"
      ],
      "metadata": {
        "colab": {
          "base_uri": "https://localhost:8080/"
        },
        "id": "BaRobmSHAQZS",
        "outputId": "e77faef6-a76b-447b-ab20-ac45103c1c3d"
      },
      "execution_count": 3,
      "outputs": [
        {
          "output_type": "execute_result",
          "data": {
            "text/plain": [
              "Index(['clientnum', 'attrition_flag', 'customer_age', 'gender',\n",
              "       'dependent_count', 'education_level', 'marital_status',\n",
              "       'income_category', 'card_category', 'months_on_book',\n",
              "       'total_relationship_count', 'months_inactive_12_mon',\n",
              "       'contacts_count_12_mon', 'credit_limit', 'total_revolving_bal',\n",
              "       'avg_open_to_buy', 'total_amt_chng_q4_q1', 'total_trans_amt',\n",
              "       'total_trans_ct', 'total_ct_chng_q4_q1', 'avg_utilization_ratio',\n",
              "       'naive_bayes_classifier_attrition_flag_card_category_contacts_count_12_mon_dependent_count_education_level_months_inactive_12_mon_1',\n",
              "       'naive_bayes_classifier_attrition_flag_card_category_contacts_count_12_mon_dependent_count_education_level_months_inactive_12_mon_2'],\n",
              "      dtype='object')"
            ]
          },
          "metadata": {},
          "execution_count": 3
        }
      ]
    },
    {
      "cell_type": "code",
      "source": [
        "df = df.drop(columns = ['naive_bayes_classifier_attrition_flag_card_category_contacts_count_12_mon_dependent_count_education_level_months_inactive_12_mon_1', 'naive_bayes_classifier_attrition_flag_card_category_contacts_count_12_mon_dependent_count_education_level_months_inactive_12_mon_2'])"
      ],
      "metadata": {
        "id": "6qN7ExUGAcQD"
      },
      "execution_count": 4,
      "outputs": []
    },
    {
      "cell_type": "code",
      "source": [
        "df.columns"
      ],
      "metadata": {
        "colab": {
          "base_uri": "https://localhost:8080/"
        },
        "id": "aMr13K6mApOs",
        "outputId": "c92742a8-82e1-4b78-9d1e-8e251e4a6432"
      },
      "execution_count": 5,
      "outputs": [
        {
          "output_type": "execute_result",
          "data": {
            "text/plain": [
              "Index(['clientnum', 'attrition_flag', 'customer_age', 'gender',\n",
              "       'dependent_count', 'education_level', 'marital_status',\n",
              "       'income_category', 'card_category', 'months_on_book',\n",
              "       'total_relationship_count', 'months_inactive_12_mon',\n",
              "       'contacts_count_12_mon', 'credit_limit', 'total_revolving_bal',\n",
              "       'avg_open_to_buy', 'total_amt_chng_q4_q1', 'total_trans_amt',\n",
              "       'total_trans_ct', 'total_ct_chng_q4_q1', 'avg_utilization_ratio'],\n",
              "      dtype='object')"
            ]
          },
          "metadata": {},
          "execution_count": 5
        }
      ]
    },
    {
      "cell_type": "code",
      "source": [
        "df.info()"
      ],
      "metadata": {
        "colab": {
          "base_uri": "https://localhost:8080/"
        },
        "id": "btnLKza4AsE8",
        "outputId": "16fb848c-6cd0-48c0-9892-7e486da9f51e"
      },
      "execution_count": 6,
      "outputs": [
        {
          "output_type": "stream",
          "name": "stdout",
          "text": [
            "<class 'pandas.core.frame.DataFrame'>\n",
            "RangeIndex: 10127 entries, 0 to 10126\n",
            "Data columns (total 21 columns):\n",
            " #   Column                    Non-Null Count  Dtype  \n",
            "---  ------                    --------------  -----  \n",
            " 0   clientnum                 10127 non-null  int64  \n",
            " 1   attrition_flag            10127 non-null  object \n",
            " 2   customer_age              10127 non-null  int64  \n",
            " 3   gender                    10127 non-null  object \n",
            " 4   dependent_count           10127 non-null  int64  \n",
            " 5   education_level           10127 non-null  object \n",
            " 6   marital_status            10127 non-null  object \n",
            " 7   income_category           10127 non-null  object \n",
            " 8   card_category             10127 non-null  object \n",
            " 9   months_on_book            10127 non-null  int64  \n",
            " 10  total_relationship_count  10127 non-null  int64  \n",
            " 11  months_inactive_12_mon    10127 non-null  int64  \n",
            " 12  contacts_count_12_mon     10127 non-null  int64  \n",
            " 13  credit_limit              10127 non-null  float64\n",
            " 14  total_revolving_bal       10127 non-null  int64  \n",
            " 15  avg_open_to_buy           10127 non-null  float64\n",
            " 16  total_amt_chng_q4_q1      10127 non-null  float64\n",
            " 17  total_trans_amt           10127 non-null  int64  \n",
            " 18  total_trans_ct            10127 non-null  int64  \n",
            " 19  total_ct_chng_q4_q1       10127 non-null  float64\n",
            " 20  avg_utilization_ratio     10127 non-null  float64\n",
            "dtypes: float64(5), int64(10), object(6)\n",
            "memory usage: 1.6+ MB\n"
          ]
        }
      ]
    },
    {
      "cell_type": "markdown",
      "source": [
        "#Encoding"
      ],
      "metadata": {
        "id": "ip2Bs_G0WT7Z"
      }
    },
    {
      "cell_type": "markdown",
      "source": [
        "1. **Ordinal encoding**"
      ],
      "metadata": {
        "id": "UfoDv0ktWbkX"
      }
    },
    {
      "cell_type": "code",
      "source": [
        "income_map = {\n",
        "    'Unknown':0,\n",
        "    'Less than $40K' : 1,\n",
        "    '$40K - $60K':2,\n",
        "    '$60K - $80K':3,\n",
        "    '$80K - $120K':4,\n",
        "    '$120K +':5\n",
        "}\n",
        "\n",
        "df['income_category'] = df['income_category'].replace(income_map)"
      ],
      "metadata": {
        "colab": {
          "base_uri": "https://localhost:8080/"
        },
        "id": "swt2hrKWFv7H",
        "outputId": "b9eafaab-449a-43d6-f239-c58595ce26b7"
      },
      "execution_count": 7,
      "outputs": [
        {
          "output_type": "stream",
          "name": "stderr",
          "text": [
            "/tmp/ipython-input-2844679431.py:10: FutureWarning: Downcasting behavior in `replace` is deprecated and will be removed in a future version. To retain the old behavior, explicitly call `result.infer_objects(copy=False)`. To opt-in to the future behavior, set `pd.set_option('future.no_silent_downcasting', True)`\n",
            "  df['income_category'] = df['income_category'].replace(income_map)\n"
          ]
        }
      ]
    },
    {
      "cell_type": "code",
      "source": [
        "education_map = {\n",
        "    'Unknown':0,\n",
        "    'Uneducated':1,\n",
        "    'High School':2,\n",
        "    'College':3,\n",
        "    'Graduate':4,\n",
        "    'Post-Graduate':5,\n",
        "    'Doctorate':6\n",
        "}\n",
        "df['education_level'] = df['education_level'].replace(education_map)"
      ],
      "metadata": {
        "colab": {
          "base_uri": "https://localhost:8080/"
        },
        "id": "xpQMd77oGdbw",
        "outputId": "d8dbbf40-e442-4455-b52e-d68cac9c5512"
      },
      "execution_count": 8,
      "outputs": [
        {
          "output_type": "stream",
          "name": "stderr",
          "text": [
            "/tmp/ipython-input-4281327474.py:10: FutureWarning: Downcasting behavior in `replace` is deprecated and will be removed in a future version. To retain the old behavior, explicitly call `result.infer_objects(copy=False)`. To opt-in to the future behavior, set `pd.set_option('future.no_silent_downcasting', True)`\n",
            "  df['education_level'] = df['education_level'].replace(education_map)\n"
          ]
        }
      ]
    },
    {
      "cell_type": "markdown",
      "source": [
        "2. **Label encoding**"
      ],
      "metadata": {
        "id": "-uo11aUpWfVU"
      }
    },
    {
      "cell_type": "code",
      "source": [
        "df['gender'] = df['gender'].replace({'M':0,'F':1})"
      ],
      "metadata": {
        "colab": {
          "base_uri": "https://localhost:8080/"
        },
        "id": "R52jLHDUG9xS",
        "outputId": "f0b1ed6e-4481-4215-b12f-1762f7eff705"
      },
      "execution_count": 9,
      "outputs": [
        {
          "output_type": "stream",
          "name": "stderr",
          "text": [
            "/tmp/ipython-input-1025068498.py:1: FutureWarning: Downcasting behavior in `replace` is deprecated and will be removed in a future version. To retain the old behavior, explicitly call `result.infer_objects(copy=False)`. To opt-in to the future behavior, set `pd.set_option('future.no_silent_downcasting', True)`\n",
            "  df['gender'] = df['gender'].replace({'M':0,'F':1})\n"
          ]
        }
      ]
    },
    {
      "cell_type": "code",
      "source": [
        "df['attrition_flag'] = df['attrition_flag'].replace({'Attrited Customer':1, 'Existing Customer':0})"
      ],
      "metadata": {
        "colab": {
          "base_uri": "https://localhost:8080/"
        },
        "id": "5A3mqYgWHn2f",
        "outputId": "fc208590-1ba2-4f76-defc-c6bc72f35542"
      },
      "execution_count": 10,
      "outputs": [
        {
          "output_type": "stream",
          "name": "stderr",
          "text": [
            "/tmp/ipython-input-1908715125.py:1: FutureWarning: Downcasting behavior in `replace` is deprecated and will be removed in a future version. To retain the old behavior, explicitly call `result.infer_objects(copy=False)`. To opt-in to the future behavior, set `pd.set_option('future.no_silent_downcasting', True)`\n",
            "  df['attrition_flag'] = df['attrition_flag'].replace({'Attrited Customer':1, 'Existing Customer':0})\n"
          ]
        }
      ]
    },
    {
      "cell_type": "markdown",
      "source": [
        "3.**One hot encoding**"
      ],
      "metadata": {
        "id": "zUlK_JXyWhi3"
      }
    },
    {
      "cell_type": "code",
      "source": [
        "df = pd.get_dummies(df,columns=['marital_status','card_category'],drop_first=True, dtype = int)"
      ],
      "metadata": {
        "id": "XtRBDlqvIEVr"
      },
      "execution_count": 11,
      "outputs": []
    },
    {
      "cell_type": "code",
      "source": [
        "df.info()"
      ],
      "metadata": {
        "colab": {
          "base_uri": "https://localhost:8080/"
        },
        "id": "pzWwnmh8Ie-L",
        "outputId": "0f915127-934a-47bd-d202-cfca2afa63f1"
      },
      "execution_count": 12,
      "outputs": [
        {
          "output_type": "stream",
          "name": "stdout",
          "text": [
            "<class 'pandas.core.frame.DataFrame'>\n",
            "RangeIndex: 10127 entries, 0 to 10126\n",
            "Data columns (total 25 columns):\n",
            " #   Column                    Non-Null Count  Dtype  \n",
            "---  ------                    --------------  -----  \n",
            " 0   clientnum                 10127 non-null  int64  \n",
            " 1   attrition_flag            10127 non-null  int64  \n",
            " 2   customer_age              10127 non-null  int64  \n",
            " 3   gender                    10127 non-null  int64  \n",
            " 4   dependent_count           10127 non-null  int64  \n",
            " 5   education_level           10127 non-null  int64  \n",
            " 6   income_category           10127 non-null  int64  \n",
            " 7   months_on_book            10127 non-null  int64  \n",
            " 8   total_relationship_count  10127 non-null  int64  \n",
            " 9   months_inactive_12_mon    10127 non-null  int64  \n",
            " 10  contacts_count_12_mon     10127 non-null  int64  \n",
            " 11  credit_limit              10127 non-null  float64\n",
            " 12  total_revolving_bal       10127 non-null  int64  \n",
            " 13  avg_open_to_buy           10127 non-null  float64\n",
            " 14  total_amt_chng_q4_q1      10127 non-null  float64\n",
            " 15  total_trans_amt           10127 non-null  int64  \n",
            " 16  total_trans_ct            10127 non-null  int64  \n",
            " 17  total_ct_chng_q4_q1       10127 non-null  float64\n",
            " 18  avg_utilization_ratio     10127 non-null  float64\n",
            " 19  marital_status_Married    10127 non-null  int64  \n",
            " 20  marital_status_Single     10127 non-null  int64  \n",
            " 21  marital_status_Unknown    10127 non-null  int64  \n",
            " 22  card_category_Gold        10127 non-null  int64  \n",
            " 23  card_category_Platinum    10127 non-null  int64  \n",
            " 24  card_category_Silver      10127 non-null  int64  \n",
            "dtypes: float64(5), int64(20)\n",
            "memory usage: 1.9 MB\n"
          ]
        }
      ]
    },
    {
      "cell_type": "markdown",
      "source": [
        "#Standardization"
      ],
      "metadata": {
        "id": "T1hXVpUEWk5R"
      }
    },
    {
      "cell_type": "code",
      "source": [
        "from sklearn.preprocessing import StandardScaler\n",
        "\n",
        "scale_cols = [\n",
        "    'customer_age',\n",
        "    'months_on_book',\n",
        "    'credit_limit',\n",
        "    'total_revolving_bal',\n",
        "    'avg_open_to_buy',\n",
        "    'total_amt_chng_q4_q1',\n",
        "    'total_trans_amt',\n",
        "    'total_trans_ct',\n",
        "    'total_ct_chng_q4_q1'\n",
        "]\n",
        "\n",
        "scaler = StandardScaler()\n",
        "\n",
        "df[scale_cols] = scaler.fit_transform(df[scale_cols])\n",
        "df.head()\n"
      ],
      "metadata": {
        "colab": {
          "base_uri": "https://localhost:8080/",
          "height": 255
        },
        "id": "o5qHYLmYOdtX",
        "outputId": "4cf90386-8fbc-4078-8451-62870b36b371"
      },
      "execution_count": 13,
      "outputs": [
        {
          "output_type": "execute_result",
          "data": {
            "text/plain": [
              "   clientnum  attrition_flag  customer_age  gender  dependent_count  \\\n",
              "0  768805383               0     -0.165406       0                3   \n",
              "1  818770008               0      0.333570       1                5   \n",
              "2  713982108               0      0.583058       0                3   \n",
              "3  769911858               0     -0.789126       1                4   \n",
              "4  709106358               0     -0.789126       0                3   \n",
              "\n",
              "   education_level  income_category  months_on_book  total_relationship_count  \\\n",
              "0                2                3        0.384621                         5   \n",
              "1                4                1        1.010715                         6   \n",
              "2                4                4        0.008965                         4   \n",
              "3                2                1       -0.241473                         3   \n",
              "4                1                3       -1.869317                         5   \n",
              "\n",
              "   months_inactive_12_mon  ...  total_trans_amt  total_trans_ct  \\\n",
              "0                       1  ...        -0.959707       -0.973895   \n",
              "1                       1  ...        -0.916433       -1.357340   \n",
              "2                       1  ...        -0.740982       -1.911206   \n",
              "3                       4  ...        -0.951758       -1.911206   \n",
              "4                       1  ...        -1.056263       -1.570365   \n",
              "\n",
              "   total_ct_chng_q4_q1  avg_utilization_ratio  marital_status_Married  \\\n",
              "0             3.834003                  0.061                       1   \n",
              "1            12.608573                  0.105                       0   \n",
              "2             6.807864                  0.000                       1   \n",
              "3             6.807864                  0.760                       0   \n",
              "4             7.509325                  0.000                       1   \n",
              "\n",
              "   marital_status_Single  marital_status_Unknown  card_category_Gold  \\\n",
              "0                      0                       0                   0   \n",
              "1                      1                       0                   0   \n",
              "2                      0                       0                   0   \n",
              "3                      0                       1                   0   \n",
              "4                      0                       0                   0   \n",
              "\n",
              "   card_category_Platinum  card_category_Silver  \n",
              "0                       0                     0  \n",
              "1                       0                     0  \n",
              "2                       0                     0  \n",
              "3                       0                     0  \n",
              "4                       0                     0  \n",
              "\n",
              "[5 rows x 25 columns]"
            ],
            "text/html": [
              "\n",
              "  <div id=\"df-6aa5211f-c94d-4ccd-b2e4-2589caa00988\" class=\"colab-df-container\">\n",
              "    <div>\n",
              "<style scoped>\n",
              "    .dataframe tbody tr th:only-of-type {\n",
              "        vertical-align: middle;\n",
              "    }\n",
              "\n",
              "    .dataframe tbody tr th {\n",
              "        vertical-align: top;\n",
              "    }\n",
              "\n",
              "    .dataframe thead th {\n",
              "        text-align: right;\n",
              "    }\n",
              "</style>\n",
              "<table border=\"1\" class=\"dataframe\">\n",
              "  <thead>\n",
              "    <tr style=\"text-align: right;\">\n",
              "      <th></th>\n",
              "      <th>clientnum</th>\n",
              "      <th>attrition_flag</th>\n",
              "      <th>customer_age</th>\n",
              "      <th>gender</th>\n",
              "      <th>dependent_count</th>\n",
              "      <th>education_level</th>\n",
              "      <th>income_category</th>\n",
              "      <th>months_on_book</th>\n",
              "      <th>total_relationship_count</th>\n",
              "      <th>months_inactive_12_mon</th>\n",
              "      <th>...</th>\n",
              "      <th>total_trans_amt</th>\n",
              "      <th>total_trans_ct</th>\n",
              "      <th>total_ct_chng_q4_q1</th>\n",
              "      <th>avg_utilization_ratio</th>\n",
              "      <th>marital_status_Married</th>\n",
              "      <th>marital_status_Single</th>\n",
              "      <th>marital_status_Unknown</th>\n",
              "      <th>card_category_Gold</th>\n",
              "      <th>card_category_Platinum</th>\n",
              "      <th>card_category_Silver</th>\n",
              "    </tr>\n",
              "  </thead>\n",
              "  <tbody>\n",
              "    <tr>\n",
              "      <th>0</th>\n",
              "      <td>768805383</td>\n",
              "      <td>0</td>\n",
              "      <td>-0.165406</td>\n",
              "      <td>0</td>\n",
              "      <td>3</td>\n",
              "      <td>2</td>\n",
              "      <td>3</td>\n",
              "      <td>0.384621</td>\n",
              "      <td>5</td>\n",
              "      <td>1</td>\n",
              "      <td>...</td>\n",
              "      <td>-0.959707</td>\n",
              "      <td>-0.973895</td>\n",
              "      <td>3.834003</td>\n",
              "      <td>0.061</td>\n",
              "      <td>1</td>\n",
              "      <td>0</td>\n",
              "      <td>0</td>\n",
              "      <td>0</td>\n",
              "      <td>0</td>\n",
              "      <td>0</td>\n",
              "    </tr>\n",
              "    <tr>\n",
              "      <th>1</th>\n",
              "      <td>818770008</td>\n",
              "      <td>0</td>\n",
              "      <td>0.333570</td>\n",
              "      <td>1</td>\n",
              "      <td>5</td>\n",
              "      <td>4</td>\n",
              "      <td>1</td>\n",
              "      <td>1.010715</td>\n",
              "      <td>6</td>\n",
              "      <td>1</td>\n",
              "      <td>...</td>\n",
              "      <td>-0.916433</td>\n",
              "      <td>-1.357340</td>\n",
              "      <td>12.608573</td>\n",
              "      <td>0.105</td>\n",
              "      <td>0</td>\n",
              "      <td>1</td>\n",
              "      <td>0</td>\n",
              "      <td>0</td>\n",
              "      <td>0</td>\n",
              "      <td>0</td>\n",
              "    </tr>\n",
              "    <tr>\n",
              "      <th>2</th>\n",
              "      <td>713982108</td>\n",
              "      <td>0</td>\n",
              "      <td>0.583058</td>\n",
              "      <td>0</td>\n",
              "      <td>3</td>\n",
              "      <td>4</td>\n",
              "      <td>4</td>\n",
              "      <td>0.008965</td>\n",
              "      <td>4</td>\n",
              "      <td>1</td>\n",
              "      <td>...</td>\n",
              "      <td>-0.740982</td>\n",
              "      <td>-1.911206</td>\n",
              "      <td>6.807864</td>\n",
              "      <td>0.000</td>\n",
              "      <td>1</td>\n",
              "      <td>0</td>\n",
              "      <td>0</td>\n",
              "      <td>0</td>\n",
              "      <td>0</td>\n",
              "      <td>0</td>\n",
              "    </tr>\n",
              "    <tr>\n",
              "      <th>3</th>\n",
              "      <td>769911858</td>\n",
              "      <td>0</td>\n",
              "      <td>-0.789126</td>\n",
              "      <td>1</td>\n",
              "      <td>4</td>\n",
              "      <td>2</td>\n",
              "      <td>1</td>\n",
              "      <td>-0.241473</td>\n",
              "      <td>3</td>\n",
              "      <td>4</td>\n",
              "      <td>...</td>\n",
              "      <td>-0.951758</td>\n",
              "      <td>-1.911206</td>\n",
              "      <td>6.807864</td>\n",
              "      <td>0.760</td>\n",
              "      <td>0</td>\n",
              "      <td>0</td>\n",
              "      <td>1</td>\n",
              "      <td>0</td>\n",
              "      <td>0</td>\n",
              "      <td>0</td>\n",
              "    </tr>\n",
              "    <tr>\n",
              "      <th>4</th>\n",
              "      <td>709106358</td>\n",
              "      <td>0</td>\n",
              "      <td>-0.789126</td>\n",
              "      <td>0</td>\n",
              "      <td>3</td>\n",
              "      <td>1</td>\n",
              "      <td>3</td>\n",
              "      <td>-1.869317</td>\n",
              "      <td>5</td>\n",
              "      <td>1</td>\n",
              "      <td>...</td>\n",
              "      <td>-1.056263</td>\n",
              "      <td>-1.570365</td>\n",
              "      <td>7.509325</td>\n",
              "      <td>0.000</td>\n",
              "      <td>1</td>\n",
              "      <td>0</td>\n",
              "      <td>0</td>\n",
              "      <td>0</td>\n",
              "      <td>0</td>\n",
              "      <td>0</td>\n",
              "    </tr>\n",
              "  </tbody>\n",
              "</table>\n",
              "<p>5 rows × 25 columns</p>\n",
              "</div>\n",
              "    <div class=\"colab-df-buttons\">\n",
              "\n",
              "  <div class=\"colab-df-container\">\n",
              "    <button class=\"colab-df-convert\" onclick=\"convertToInteractive('df-6aa5211f-c94d-4ccd-b2e4-2589caa00988')\"\n",
              "            title=\"Convert this dataframe to an interactive table.\"\n",
              "            style=\"display:none;\">\n",
              "\n",
              "  <svg xmlns=\"http://www.w3.org/2000/svg\" height=\"24px\" viewBox=\"0 -960 960 960\">\n",
              "    <path d=\"M120-120v-720h720v720H120Zm60-500h600v-160H180v160Zm220 220h160v-160H400v160Zm0 220h160v-160H400v160ZM180-400h160v-160H180v160Zm440 0h160v-160H620v160ZM180-180h160v-160H180v160Zm440 0h160v-160H620v160Z\"/>\n",
              "  </svg>\n",
              "    </button>\n",
              "\n",
              "  <style>\n",
              "    .colab-df-container {\n",
              "      display:flex;\n",
              "      gap: 12px;\n",
              "    }\n",
              "\n",
              "    .colab-df-convert {\n",
              "      background-color: #E8F0FE;\n",
              "      border: none;\n",
              "      border-radius: 50%;\n",
              "      cursor: pointer;\n",
              "      display: none;\n",
              "      fill: #1967D2;\n",
              "      height: 32px;\n",
              "      padding: 0 0 0 0;\n",
              "      width: 32px;\n",
              "    }\n",
              "\n",
              "    .colab-df-convert:hover {\n",
              "      background-color: #E2EBFA;\n",
              "      box-shadow: 0px 1px 2px rgba(60, 64, 67, 0.3), 0px 1px 3px 1px rgba(60, 64, 67, 0.15);\n",
              "      fill: #174EA6;\n",
              "    }\n",
              "\n",
              "    .colab-df-buttons div {\n",
              "      margin-bottom: 4px;\n",
              "    }\n",
              "\n",
              "    [theme=dark] .colab-df-convert {\n",
              "      background-color: #3B4455;\n",
              "      fill: #D2E3FC;\n",
              "    }\n",
              "\n",
              "    [theme=dark] .colab-df-convert:hover {\n",
              "      background-color: #434B5C;\n",
              "      box-shadow: 0px 1px 3px 1px rgba(0, 0, 0, 0.15);\n",
              "      filter: drop-shadow(0px 1px 2px rgba(0, 0, 0, 0.3));\n",
              "      fill: #FFFFFF;\n",
              "    }\n",
              "  </style>\n",
              "\n",
              "    <script>\n",
              "      const buttonEl =\n",
              "        document.querySelector('#df-6aa5211f-c94d-4ccd-b2e4-2589caa00988 button.colab-df-convert');\n",
              "      buttonEl.style.display =\n",
              "        google.colab.kernel.accessAllowed ? 'block' : 'none';\n",
              "\n",
              "      async function convertToInteractive(key) {\n",
              "        const element = document.querySelector('#df-6aa5211f-c94d-4ccd-b2e4-2589caa00988');\n",
              "        const dataTable =\n",
              "          await google.colab.kernel.invokeFunction('convertToInteractive',\n",
              "                                                    [key], {});\n",
              "        if (!dataTable) return;\n",
              "\n",
              "        const docLinkHtml = 'Like what you see? Visit the ' +\n",
              "          '<a target=\"_blank\" href=https://colab.research.google.com/notebooks/data_table.ipynb>data table notebook</a>'\n",
              "          + ' to learn more about interactive tables.';\n",
              "        element.innerHTML = '';\n",
              "        dataTable['output_type'] = 'display_data';\n",
              "        await google.colab.output.renderOutput(dataTable, element);\n",
              "        const docLink = document.createElement('div');\n",
              "        docLink.innerHTML = docLinkHtml;\n",
              "        element.appendChild(docLink);\n",
              "      }\n",
              "    </script>\n",
              "  </div>\n",
              "\n",
              "\n",
              "    <div id=\"df-ab22872a-c01a-4f14-8d8e-0d7093df76c8\">\n",
              "      <button class=\"colab-df-quickchart\" onclick=\"quickchart('df-ab22872a-c01a-4f14-8d8e-0d7093df76c8')\"\n",
              "                title=\"Suggest charts\"\n",
              "                style=\"display:none;\">\n",
              "\n",
              "<svg xmlns=\"http://www.w3.org/2000/svg\" height=\"24px\"viewBox=\"0 0 24 24\"\n",
              "     width=\"24px\">\n",
              "    <g>\n",
              "        <path d=\"M19 3H5c-1.1 0-2 .9-2 2v14c0 1.1.9 2 2 2h14c1.1 0 2-.9 2-2V5c0-1.1-.9-2-2-2zM9 17H7v-7h2v7zm4 0h-2V7h2v10zm4 0h-2v-4h2v4z\"/>\n",
              "    </g>\n",
              "</svg>\n",
              "      </button>\n",
              "\n",
              "<style>\n",
              "  .colab-df-quickchart {\n",
              "      --bg-color: #E8F0FE;\n",
              "      --fill-color: #1967D2;\n",
              "      --hover-bg-color: #E2EBFA;\n",
              "      --hover-fill-color: #174EA6;\n",
              "      --disabled-fill-color: #AAA;\n",
              "      --disabled-bg-color: #DDD;\n",
              "  }\n",
              "\n",
              "  [theme=dark] .colab-df-quickchart {\n",
              "      --bg-color: #3B4455;\n",
              "      --fill-color: #D2E3FC;\n",
              "      --hover-bg-color: #434B5C;\n",
              "      --hover-fill-color: #FFFFFF;\n",
              "      --disabled-bg-color: #3B4455;\n",
              "      --disabled-fill-color: #666;\n",
              "  }\n",
              "\n",
              "  .colab-df-quickchart {\n",
              "    background-color: var(--bg-color);\n",
              "    border: none;\n",
              "    border-radius: 50%;\n",
              "    cursor: pointer;\n",
              "    display: none;\n",
              "    fill: var(--fill-color);\n",
              "    height: 32px;\n",
              "    padding: 0;\n",
              "    width: 32px;\n",
              "  }\n",
              "\n",
              "  .colab-df-quickchart:hover {\n",
              "    background-color: var(--hover-bg-color);\n",
              "    box-shadow: 0 1px 2px rgba(60, 64, 67, 0.3), 0 1px 3px 1px rgba(60, 64, 67, 0.15);\n",
              "    fill: var(--button-hover-fill-color);\n",
              "  }\n",
              "\n",
              "  .colab-df-quickchart-complete:disabled,\n",
              "  .colab-df-quickchart-complete:disabled:hover {\n",
              "    background-color: var(--disabled-bg-color);\n",
              "    fill: var(--disabled-fill-color);\n",
              "    box-shadow: none;\n",
              "  }\n",
              "\n",
              "  .colab-df-spinner {\n",
              "    border: 2px solid var(--fill-color);\n",
              "    border-color: transparent;\n",
              "    border-bottom-color: var(--fill-color);\n",
              "    animation:\n",
              "      spin 1s steps(1) infinite;\n",
              "  }\n",
              "\n",
              "  @keyframes spin {\n",
              "    0% {\n",
              "      border-color: transparent;\n",
              "      border-bottom-color: var(--fill-color);\n",
              "      border-left-color: var(--fill-color);\n",
              "    }\n",
              "    20% {\n",
              "      border-color: transparent;\n",
              "      border-left-color: var(--fill-color);\n",
              "      border-top-color: var(--fill-color);\n",
              "    }\n",
              "    30% {\n",
              "      border-color: transparent;\n",
              "      border-left-color: var(--fill-color);\n",
              "      border-top-color: var(--fill-color);\n",
              "      border-right-color: var(--fill-color);\n",
              "    }\n",
              "    40% {\n",
              "      border-color: transparent;\n",
              "      border-right-color: var(--fill-color);\n",
              "      border-top-color: var(--fill-color);\n",
              "    }\n",
              "    60% {\n",
              "      border-color: transparent;\n",
              "      border-right-color: var(--fill-color);\n",
              "    }\n",
              "    80% {\n",
              "      border-color: transparent;\n",
              "      border-right-color: var(--fill-color);\n",
              "      border-bottom-color: var(--fill-color);\n",
              "    }\n",
              "    90% {\n",
              "      border-color: transparent;\n",
              "      border-bottom-color: var(--fill-color);\n",
              "    }\n",
              "  }\n",
              "</style>\n",
              "\n",
              "      <script>\n",
              "        async function quickchart(key) {\n",
              "          const quickchartButtonEl =\n",
              "            document.querySelector('#' + key + ' button');\n",
              "          quickchartButtonEl.disabled = true;  // To prevent multiple clicks.\n",
              "          quickchartButtonEl.classList.add('colab-df-spinner');\n",
              "          try {\n",
              "            const charts = await google.colab.kernel.invokeFunction(\n",
              "                'suggestCharts', [key], {});\n",
              "          } catch (error) {\n",
              "            console.error('Error during call to suggestCharts:', error);\n",
              "          }\n",
              "          quickchartButtonEl.classList.remove('colab-df-spinner');\n",
              "          quickchartButtonEl.classList.add('colab-df-quickchart-complete');\n",
              "        }\n",
              "        (() => {\n",
              "          let quickchartButtonEl =\n",
              "            document.querySelector('#df-ab22872a-c01a-4f14-8d8e-0d7093df76c8 button');\n",
              "          quickchartButtonEl.style.display =\n",
              "            google.colab.kernel.accessAllowed ? 'block' : 'none';\n",
              "        })();\n",
              "      </script>\n",
              "    </div>\n",
              "\n",
              "    </div>\n",
              "  </div>\n"
            ],
            "application/vnd.google.colaboratory.intrinsic+json": {
              "type": "dataframe",
              "variable_name": "df"
            }
          },
          "metadata": {},
          "execution_count": 13
        }
      ]
    },
    {
      "cell_type": "markdown",
      "source": [
        "#Checking imbalance"
      ],
      "metadata": {
        "id": "6kqFTGZXW8G_"
      }
    },
    {
      "cell_type": "code",
      "source": [
        "df['attrition_flag'].value_counts(normalize=True)*100"
      ],
      "metadata": {
        "colab": {
          "base_uri": "https://localhost:8080/",
          "height": 178
        },
        "id": "AsSnuBJPVjtR",
        "outputId": "3bbbf543-9902-4050-959e-d95dc3a6da2b"
      },
      "execution_count": 14,
      "outputs": [
        {
          "output_type": "execute_result",
          "data": {
            "text/plain": [
              "attrition_flag\n",
              "0    83.934038\n",
              "1    16.065962\n",
              "Name: proportion, dtype: float64"
            ],
            "text/html": [
              "<div>\n",
              "<style scoped>\n",
              "    .dataframe tbody tr th:only-of-type {\n",
              "        vertical-align: middle;\n",
              "    }\n",
              "\n",
              "    .dataframe tbody tr th {\n",
              "        vertical-align: top;\n",
              "    }\n",
              "\n",
              "    .dataframe thead th {\n",
              "        text-align: right;\n",
              "    }\n",
              "</style>\n",
              "<table border=\"1\" class=\"dataframe\">\n",
              "  <thead>\n",
              "    <tr style=\"text-align: right;\">\n",
              "      <th></th>\n",
              "      <th>proportion</th>\n",
              "    </tr>\n",
              "    <tr>\n",
              "      <th>attrition_flag</th>\n",
              "      <th></th>\n",
              "    </tr>\n",
              "  </thead>\n",
              "  <tbody>\n",
              "    <tr>\n",
              "      <th>0</th>\n",
              "      <td>83.934038</td>\n",
              "    </tr>\n",
              "    <tr>\n",
              "      <th>1</th>\n",
              "      <td>16.065962</td>\n",
              "    </tr>\n",
              "  </tbody>\n",
              "</table>\n",
              "</div><br><label><b>dtype:</b> float64</label>"
            ]
          },
          "metadata": {},
          "execution_count": 14
        }
      ]
    },
    {
      "cell_type": "markdown",
      "source": [
        "#Predictive modelling"
      ],
      "metadata": {
        "id": "UiYKoChLW45b"
      }
    },
    {
      "cell_type": "markdown",
      "source": [
        "1. **Train test split**"
      ],
      "metadata": {
        "id": "AYUKaUtRXCEG"
      }
    },
    {
      "cell_type": "code",
      "source": [
        "from sklearn.model_selection import train_test_split\n",
        "\n",
        "X = df.drop(columns = ['attrition_flag'])\n",
        "y = df['attrition_flag']\n",
        "\n",
        "X_train, X_test, y_train, y_test = train_test_split(X, y, test_size=0.2, random_state=42, stratify=y)"
      ],
      "metadata": {
        "id": "NGGY4zkUOufH"
      },
      "execution_count": 15,
      "outputs": []
    },
    {
      "cell_type": "markdown",
      "source": [
        "2. **Logistic regression**"
      ],
      "metadata": {
        "id": "aYJhAGLVXENs"
      }
    },
    {
      "cell_type": "code",
      "source": [
        "from sklearn.linear_model import LogisticRegression\n",
        "from sklearn.metrics import classification_report, confusion_matrix\n",
        "\n",
        "# Logistic Regression with class balancing\n",
        "log_reg = LogisticRegression(max_iter=1000, random_state=42, class_weight='balanced')\n",
        "log_reg.fit(X_train, y_train)\n",
        "\n",
        "y_pred = log_reg.predict(X_test)\n",
        "\n",
        "print(confusion_matrix(y_test, y_pred))\n",
        "print(classification_report(y_test, y_pred))"
      ],
      "metadata": {
        "colab": {
          "base_uri": "https://localhost:8080/"
        },
        "id": "DHLQAr3uPIui",
        "outputId": "62af50c5-c3a6-43c0-909b-743bd579de17"
      },
      "execution_count": 16,
      "outputs": [
        {
          "output_type": "stream",
          "name": "stdout",
          "text": [
            "[[1701    0]\n",
            " [ 325    0]]\n",
            "              precision    recall  f1-score   support\n",
            "\n",
            "           0       0.84      1.00      0.91      1701\n",
            "           1       0.00      0.00      0.00       325\n",
            "\n",
            "    accuracy                           0.84      2026\n",
            "   macro avg       0.42      0.50      0.46      2026\n",
            "weighted avg       0.70      0.84      0.77      2026\n",
            "\n"
          ]
        },
        {
          "output_type": "stream",
          "name": "stderr",
          "text": [
            "/usr/local/lib/python3.12/dist-packages/sklearn/metrics/_classification.py:1565: UndefinedMetricWarning: Precision is ill-defined and being set to 0.0 in labels with no predicted samples. Use `zero_division` parameter to control this behavior.\n",
            "  _warn_prf(average, modifier, f\"{metric.capitalize()} is\", len(result))\n",
            "/usr/local/lib/python3.12/dist-packages/sklearn/metrics/_classification.py:1565: UndefinedMetricWarning: Precision is ill-defined and being set to 0.0 in labels with no predicted samples. Use `zero_division` parameter to control this behavior.\n",
            "  _warn_prf(average, modifier, f\"{metric.capitalize()} is\", len(result))\n",
            "/usr/local/lib/python3.12/dist-packages/sklearn/metrics/_classification.py:1565: UndefinedMetricWarning: Precision is ill-defined and being set to 0.0 in labels with no predicted samples. Use `zero_division` parameter to control this behavior.\n",
            "  _warn_prf(average, modifier, f\"{metric.capitalize()} is\", len(result))\n"
          ]
        }
      ]
    },
    {
      "cell_type": "markdown",
      "source": [
        "3. **Random forest**"
      ],
      "metadata": {
        "id": "lmS2AcKqXJLX"
      }
    },
    {
      "cell_type": "code",
      "source": [
        "from sklearn.ensemble import RandomForestClassifier\n",
        "from sklearn.metrics import classification_report, confusion_matrix\n",
        "\n",
        "rf = RandomForestClassifier(\n",
        "    n_estimators=200,       # number of trees\n",
        "    max_depth=None,\n",
        "    class_weight='balanced',\n",
        "    random_state=42,\n",
        "    n_jobs=-1\n",
        ")\n",
        "\n",
        "rf.fit(X_train, y_train)\n",
        "\n",
        "y_pred = rf.predict(X_test)\n",
        "\n",
        "print(confusion_matrix(y_test, y_pred))\n",
        "print(classification_report(y_test, y_pred))"
      ],
      "metadata": {
        "colab": {
          "base_uri": "https://localhost:8080/"
        },
        "id": "Dg3BOe6QQSs7",
        "outputId": "f943b689-ce24-4b88-9019-eeb28b587a4c"
      },
      "execution_count": 17,
      "outputs": [
        {
          "output_type": "stream",
          "name": "stdout",
          "text": [
            "[[1686   15]\n",
            " [  92  233]]\n",
            "              precision    recall  f1-score   support\n",
            "\n",
            "           0       0.95      0.99      0.97      1701\n",
            "           1       0.94      0.72      0.81       325\n",
            "\n",
            "    accuracy                           0.95      2026\n",
            "   macro avg       0.94      0.85      0.89      2026\n",
            "weighted avg       0.95      0.95      0.94      2026\n",
            "\n"
          ]
        }
      ]
    },
    {
      "cell_type": "code",
      "source": [
        "import matplotlib.pyplot as plt\n",
        "import pandas as pd\n",
        "import seaborn as sns\n",
        "importances = rf.feature_importances_\n",
        "features = X_train.columns\n",
        "feat_importances = pd.DataFrame({\"Feature\": features, \"Importance\": importances})\n",
        "feat_importances = feat_importances.sort_values(by=\"Importance\", ascending=False)\n",
        "sns.barplot(x=\"Importance\", y=\"Feature\", data=feat_importances.head(15))\n",
        "plt.title(\"Top 15 Feature Importances (Random Forest)\")\n",
        "plt.savefig(\"random_forest.png\", dpi=300, bbox_inches=\"tight\")\n",
        "plt.show()"
      ],
      "metadata": {
        "colab": {
          "base_uri": "https://localhost:8080/",
          "height": 472
        },
        "id": "Lan4sXSDjWeL",
        "outputId": "a683cf89-362c-4f24-ff2d-ebbf7510fb06"
      },
      "execution_count": 18,
      "outputs": [
        {
          "output_type": "display_data",
          "data": {
            "text/plain": [
              "<Figure size 640x480 with 1 Axes>"
            ],
            "image/png": "[encoded data removed]"
          },
          "metadata": {}
        }
      ]
    },
    {
      "cell_type": "code",
      "source": [
        "import matplotlib.pyplot as plt\n",
        "import pandas as pd\n",
        "import seaborn as sns\n",
        "\n",
        "importances = rf.feature_importances_\n",
        "features = X_train.columns\n",
        "\n",
        "feat_importances = pd.DataFrame({\"Feature\": features, \"Importance\": importances})\n",
        "feat_importances = feat_importances.sort_values(by=\"Importance\", ascending=False)\n",
        "\n",
        "custom_colors = [\"#E74C3C\",  # Red\n",
        "                 \"#3498DB\",  # Blue\n",
        "                 \"#2ECC71\",  # Green\n",
        "                 \"#F1C40F\",  # Yellow/Gold\n",
        "                 \"#9B59B6\"]  # Purple\n",
        "\n",
        "sns.barplot(x=\"Importance\", y=\"Feature\", data=feat_importances.head(5), palette = custom_colors)\n",
        "plt.title(\"Top 5 Feature Importances (Random Forest)\")\n",
        "plt.savefig(\"random_forest.png\", dpi=300, bbox_inches=\"tight\")\n",
        "plt.show()"
      ],
      "metadata": {
        "colab": {
          "base_uri": "https://localhost:8080/",
          "height": 579
        },
        "id": "RduNe8H9Qs0-",
        "outputId": "b989834f-273d-42f0-e628-edd79f6c1865"
      },
      "execution_count": 25,
      "outputs": [
        {
          "output_type": "stream",
          "name": "stderr",
          "text": [
            "/tmp/ipython-input-230502242.py:17: FutureWarning: \n",
            "\n",
            "Passing `palette` without assigning `hue` is deprecated and will be removed in v0.14.0. Assign the `y` variable to `hue` and set `legend=False` for the same effect.\n",
            "\n",
            "  sns.barplot(x=\"Importance\", y=\"Feature\", data=feat_importances.head(5), palette = custom_colors)\n"
          ]
        },
        {
          "output_type": "display_data",
          "data": {
            "text/plain": [
              "<Figure size 640x480 with 1 Axes>"
            ],
            "image/png": "[encoded data removed]"
          },
          "metadata": {}
        }
      ]
    },
    {
      "cell_type": "markdown",
      "source": [
        "4. **XGBoost**"
      ],
      "metadata": {
        "id": "rpKt6AsZXNND"
      }
    },
    {
      "cell_type": "code",
      "source": [
        "from xgboost import XGBClassifier\n",
        "from sklearn.metrics import classification_report, confusion_matrix\n",
        "\n",
        "xgb_model = XGBClassifier(\n",
        "    random_state=42,\n",
        "    n_estimators=300,\n",
        "    learning_rate=0.1,\n",
        "    max_depth=6,\n",
        "    subsample=0.8,\n",
        "    colsample_bytree=0.8,\n",
        "    scale_pos_weight=(len(y_train[y_train==0]) / len(y_train[y_train==1]))  # handle imbalance\n",
        ")\n",
        "\n",
        "xgb_model.fit(X_train, y_train)\n",
        "\n",
        "y_pred_xgb = xgb_model.predict(X_test)\n",
        "\n",
        "print(confusion_matrix(y_test, y_pred_xgb))\n",
        "print(classification_report(y_test, y_pred_xgb))"
      ],
      "metadata": {
        "colab": {
          "base_uri": "https://localhost:8080/"
        },
        "id": "Up-M6G9jQ36H",
        "outputId": "e4441a18-01b2-4844-86b2-60b2aab25186"
      },
      "execution_count": 20,
      "outputs": [
        {
          "output_type": "stream",
          "name": "stdout",
          "text": [
            "[[1682   19]\n",
            " [  36  289]]\n",
            "              precision    recall  f1-score   support\n",
            "\n",
            "           0       0.98      0.99      0.98      1701\n",
            "           1       0.94      0.89      0.91       325\n",
            "\n",
            "    accuracy                           0.97      2026\n",
            "   macro avg       0.96      0.94      0.95      2026\n",
            "weighted avg       0.97      0.97      0.97      2026\n",
            "\n"
          ]
        }
      ]
    },
    {
      "cell_type": "code",
      "source": [
        "import matplotlib.pyplot as plt\n",
        "from xgboost import plot_importance\n",
        "\n",
        "plot_importance(xgb_model, importance_type='gain', max_num_features=10)  # top 10 features\n",
        "plt.title(\"Top 10 Important Features (XGBoost)\")\n",
        "plt.savefig(\"xgboost.png\", dpi=300, bbox_inches=\"tight\")\n",
        "plt.show()"
      ],
      "metadata": {
        "colab": {
          "base_uri": "https://localhost:8080/",
          "height": 472
        },
        "id": "sOZFMHfnRK4f",
        "outputId": "777c8f75-ce04-46b8-ae01-50ad5d20a4f3"
      },
      "execution_count": 21,
      "outputs": [
        {
          "output_type": "display_data",
          "data": {
            "text/plain": [
              "<Figure size 640x480 with 1 Axes>"
            ],
            "image/png": "[encoded data removed]"
          },
          "metadata": {}
        }
      ]
    }
  ]
}